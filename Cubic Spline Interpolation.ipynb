{
 "cells": [
  {
   "cell_type": "markdown",
   "metadata": {},
   "source": [
    "# Cubic Spline Interpolation"
   ]
  },
  {
   "cell_type": "code",
   "execution_count": 50,
   "metadata": {},
   "outputs": [],
   "source": [
    "from sympy import *\n",
    "import numpy as np\n",
    "import math"
   ]
  },
  {
   "cell_type": "code",
   "execution_count": 81,
   "metadata": {},
   "outputs": [
    {
     "name": "stdout",
     "output_type": "stream",
     "text": [
      "2*x\n",
      "a0\n"
     ]
    },
    {
     "data": {
      "text/plain": [
       "2.7183"
      ]
     },
     "execution_count": 81,
     "metadata": {},
     "output_type": "execute_result"
    }
   ],
   "source": [
    "f=[]\n",
    "a=1\n",
    "b=1\n",
    "x = Symbol('x')\n",
    "A = symbols('a0:5')\n",
    "dx = diff((a*x**2) + b , x)\n",
    "print(dx)\n",
    "print(A[0])\n",
    "dA0 = diff(A[0]*exp(A[0]), A[0])\n",
    "dA0\n",
    "exp(x).evalf(subs={x:1})\n",
    "exp(1).evalf(5)"
   ]
  },
  {
   "cell_type": "markdown",
   "metadata": {},
   "source": [
    "## Natural Cubic Spline"
   ]
  },
  {
   "cell_type": "code",
   "execution_count": 133,
   "metadata": {},
   "outputs": [],
   "source": [
    "def natural_cubic_spline(N, data_points):\n",
    "    # a,b,c,d initialization\n",
    "    a = np.array([data_points[i][1] for i in range(len(data_points))])\n",
    "    b = np.zeros(N)\n",
    "    c = np.zeros(N)\n",
    "    d = np.zeros(N)\n",
    "    S = lambda x, xj, a, b, c, d : a + (b*(x-xj)) + (c*(x-xj)**2) + ((d*(x-xj)**3))\n",
    "    \n",
    "    # step 1\n",
    "    h=np.array([data_points[i+1][0]-data_points[i][0] for i in range(N-1)])\n",
    "    \n",
    "    # step 2\n",
    "    alpha = np.zeros(N-1)\n",
    "    for i in range(N-1):\n",
    "        alpha[i] = 3*(a[i+1]-a[i])/h[i] - 3*(a[i]-a[i-1])/h[i-1]\n",
    "        \n",
    "    # step 3\n",
    "    l = np.zeros(N)\n",
    "    miu = np.zeros(N)\n",
    "    z = np.zeros(N)\n",
    "    l[0] = 1\n",
    "    \n",
    "    # step 4\n",
    "    for i in range(1, N-1):\n",
    "        l[i] = 2*(data_points[i+1][0] - data_points[i-1][0]) - (h[i-1]*miu[i-1])\n",
    "        miu[i] = h[i]/l[i]\n",
    "        z[i] = (alpha[i]-(h[i-1]*z[i-1]))/l[i]\n",
    "        \n",
    "    # step 5\n",
    "    l[N-1] = 1\n",
    "    z[N-1] = 0\n",
    "    c[N-1] = 0\n",
    "    # step 6\n",
    "    for j in range(N-2, -1, -1):\n",
    "        c[j] = z[j] - miu[j]*c[j+1]\n",
    "        b[j] = (a[j+1]-a[j])/h[j] - (h[j]*(c[j+1]+2*c[j])/3)\n",
    "        d[j] = (c[j+1]-c[j])/(3*h[j])\n",
    "    return a,b,c,d"
   ]
  },
  {
   "cell_type": "code",
   "execution_count": 135,
   "metadata": {},
   "outputs": [
    {
     "data": {
      "text/plain": [
       "(array([1, 2.7183, 7.3891, 20.086], dtype=object),\n",
       " array([1.46599672, 2.22285021, 8.80977139, 0.        ]),\n",
       " array([0.        , 0.75685221, 5.83007406, 0.        ]),\n",
       " array([ 0.25228407,  1.69107395, -1.94335802,  0.        ]))"
      ]
     },
     "execution_count": 135,
     "metadata": {},
     "output_type": "execute_result"
    }
   ],
   "source": [
    "#example 2 pg 150\n",
    "precision = 5\n",
    "data_points=np.array([[0,1],\n",
    "                      [1, exp(1).evalf(precision)],\n",
    "                      [2, exp(2).evalf(precision)],\n",
    "                      [3, exp(3).evalf(precision)]]\n",
    "                    )\n",
    "N = len(data_points)\n",
    "a,b,c,d = natural_cubic_spline(N, data_points)\n",
    "a,b,c,d"
   ]
  },
  {
   "cell_type": "code",
   "execution_count": null,
   "metadata": {},
   "outputs": [],
   "source": []
  }
 ],
 "metadata": {
  "kernelspec": {
   "display_name": "Python 3",
   "language": "python",
   "name": "python3"
  },
  "language_info": {
   "codemirror_mode": {
    "name": "ipython",
    "version": 3
   },
   "file_extension": ".py",
   "mimetype": "text/x-python",
   "name": "python",
   "nbconvert_exporter": "python",
   "pygments_lexer": "ipython3",
   "version": "3.6.6"
  }
 },
 "nbformat": 4,
 "nbformat_minor": 2
}
