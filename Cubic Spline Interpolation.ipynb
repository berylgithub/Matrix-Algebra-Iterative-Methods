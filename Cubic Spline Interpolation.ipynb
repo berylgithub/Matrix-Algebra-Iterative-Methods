{
 "cells": [
  {
   "cell_type": "markdown",
   "metadata": {},
   "source": [
    "# Cubic Spline Interpolation"
   ]
  },
  {
   "cell_type": "code",
   "execution_count": 1,
   "metadata": {},
   "outputs": [],
   "source": [
    "from sympy import *\n",
    "import numpy as np\n",
    "import math"
   ]
  },
  {
   "cell_type": "markdown",
   "metadata": {},
   "source": [
    "## Cubic Spline Functions"
   ]
  },
  {
   "cell_type": "code",
   "execution_count": 214,
   "metadata": {},
   "outputs": [],
   "source": [
    "def natural_cubic_spline(N, data_points):\n",
    "    ''' natural cubic spline coefficients solver\n",
    "    '''\n",
    "    # a,b,c,d initialization\n",
    "    a = np.array([data_points[i][1] for i in range(len(data_points))])\n",
    "    b = np.zeros(N)\n",
    "    c = np.zeros(N)\n",
    "    d = np.zeros(N)\n",
    "    \n",
    "    # step 1\n",
    "    h=np.array([data_points[i+1][0]-data_points[i][0] for i in range(N-1)])\n",
    "    \n",
    "    # step 2\n",
    "    alpha = np.zeros(N-1)\n",
    "    for i in range(N-1):\n",
    "        alpha[i] = 3*(a[i+1]-a[i])/h[i] - 3*(a[i]-a[i-1])/h[i-1]\n",
    "        \n",
    "    # step 3\n",
    "    l = np.zeros(N)\n",
    "    miu = np.zeros(N)\n",
    "    z = np.zeros(N)\n",
    "    l[0] = 1\n",
    "    \n",
    "    # step 4\n",
    "    for i in range(1, N-1):\n",
    "        l[i] = 2*(data_points[i+1][0] - data_points[i-1][0]) - (h[i-1]*miu[i-1])\n",
    "        miu[i] = h[i]/l[i]\n",
    "        z[i] = (alpha[i]-(h[i-1]*z[i-1]))/l[i]\n",
    "        \n",
    "    # step 5\n",
    "    l[N-1] = 1\n",
    "    z[N-1] = 0\n",
    "    c[N-1] = 0\n",
    "    \n",
    "    # step 6\n",
    "    for j in range(N-2, -1, -1):\n",
    "        c[j] = z[j] - miu[j]*c[j+1]\n",
    "        b[j] = (a[j+1]-a[j])/h[j] - (h[j]*(c[j+1]+2*c[j])/3)\n",
    "        d[j] = (c[j+1]-c[j])/(3*h[j])\n",
    "        \n",
    "    return a,b,c,d\n",
    "\n",
    "def clamped_cubic_spline(N, data_points, FPO, FPN):\n",
    "    ''' clamped cubic spline coefficients solver\n",
    "    '''\n",
    "    \n",
    "    # a,b,c,d initialization\n",
    "    a = np.array([data_points[i][1] for i in range(len(data_points))])\n",
    "    b = np.zeros(N)\n",
    "    c = np.zeros(N)\n",
    "    d = np.zeros(N)\n",
    "    \n",
    "    # step 1\n",
    "    h=np.array([data_points[i+1][0]-data_points[i][0] for i in range(N-1)])\n",
    "    \n",
    "    # step 2\n",
    "    alpha = np.zeros(N)\n",
    "    alpha[0]=(3*(a[1]-a[0])/h[0]) - 3*FPO\n",
    "    alpha[N-1] = (3*FPN) - (3*(a[N-1]-a[N-2])/h[N-2])\n",
    "    \n",
    "    #step 3\n",
    "    for i in range(1, N-1):\n",
    "        alpha[i] = 3*(a[i+1]-a[i])/h[i] - 3*(a[i]-a[i-1])/h[i-1]\n",
    "        \n",
    "    # step 4\n",
    "    l = np.zeros(N)\n",
    "    miu = np.zeros(N)\n",
    "    z = np.zeros(N)\n",
    "    l[0] = 2*h[0]\n",
    "    miu[0] = 0.5\n",
    "    z[0] = alpha[0]/l[0]\n",
    "    \n",
    "    # step 5\n",
    "    for i in range(1, N-1):\n",
    "        l[i] = 2*(data_points[i+1][0] - data_points[i-1][0]) - (h[i-1]*miu[i-1])\n",
    "        miu[i] = h[i]/l[i]\n",
    "        z[i] = (alpha[i]-(h[i-1]*z[i-1]))/l[i]\n",
    "        \n",
    "    # step 6\n",
    "    l[N-1] = h[N-2]*(2-miu[N-2])\n",
    "    z[N-1] = (alpha[N-1] - (h[N-2]*z[N-2]))/l[N-1]\n",
    "    c[N-1] = z[N-1]\n",
    "    \n",
    "    # step 7\n",
    "    for j in range(N-2, -1, -1):\n",
    "        c[j] = z[j] - miu[j]*c[j+1]\n",
    "        b[j] = (a[j+1]-a[j])/h[j] - (h[j]*(c[j+1]+2*c[j])/3)\n",
    "        d[j] = (c[j+1]-c[j])/(3*h[j])\n",
    "        \n",
    "    return a,b,c,d\n",
    "\n",
    "def spline_functions_generator(data_points, a, b, c, d):\n",
    "    '''generate Si(x) functions'''\n",
    "    x = Symbol('x')\n",
    "    # S(x) definition\n",
    "    Sx = lambda x, xj, a, b, c, d : a + (b*(x-xj)) + (c*(x-xj)**2) + ((d*(x-xj)**3))\n",
    "    S = [Sx(x, data_points[i][0], a[i], b[i], c[i],d[i]) for i in range(N-1)]\n",
    "    return S\n",
    "\n",
    "\n",
    "def interpolate_single_point(data_points, x_val, S):\n",
    "    y = S[len(data_points)-2].evalf(subs={x:x_val})\n",
    "    for i in range(len(data_points)-1):\n",
    "        if x_val<=data_points[i+1][0]:\n",
    "            y = S[i].evalf(subs={x:x_val})\n",
    "            break\n",
    "    return y\n",
    "\n",
    "def interpolated_data_generator(data_points, step, S):\n",
    "    '''generate interpolation of (x,f(x))\n",
    "    '''\n",
    "    y_points = np.array([np.zeros(int((data_points[i+1][0]-data_points[i][0])/step)) for i in range(N-1)])\n",
    "    x_points = np.array([np.linspace(data_points[i][0], data_points[i+1][0], int((data_points[i+1][0]-data_points[i][0])/step)) for i in range(N-1)])\n",
    "    for i in range(N-1):\n",
    "        for j in range(len(y_points[i])):\n",
    "            y_points[i][j] = S[i].evalf(subs={x:x_points[i][j]})\n",
    "    x_points=x_points.flatten()\n",
    "    y_points=y_points.flatten()\n",
    "    return x_points, y_points\n",
    "\n"
   ]
  },
  {
   "cell_type": "markdown",
   "metadata": {},
   "source": [
    "### Example 2 page 150"
   ]
  },
  {
   "cell_type": "markdown",
   "metadata": {},
   "source": [
    "$$f(x) = e^x$$"
   ]
  },
  {
   "cell_type": "code",
   "execution_count": 215,
   "metadata": {},
   "outputs": [
    {
     "name": "stdout",
     "output_type": "stream",
     "text": [
      "a =  [1 2.7183 7.3891 20.086]\n",
      "b =  [1.46599672 2.22285021 8.80977139 0.        ]\n",
      "c =  [0.         0.75685221 5.83007406 0.        ]\n",
      "d =  [ 0.25228407  1.69107395 -1.94335802  0.        ]\n",
      "S(x) : \n",
      "0.252284071180556*x**3 + 1.46599672105577*x + 1\n",
      "2.22285020616319*x + 1.69107394748264*(x - 1)**3 + 0.756852213541667*(x - 1)**2 + 0.495430586073134\n",
      "8.80977138943142*x - 1.94335801866319*(x - 2)**3 + 5.83007405598958*(x - 2)**2 - 10.2304894341363\n",
      "\n",
      "Single point interpolation of x= 0.5  :\n",
      "interpolation =  1.76453386942546 \n",
      "real value from function =  1.6487\n"
     ]
    }
   ],
   "source": [
    "#example 2 pg 150\n",
    "precision = 5\n",
    "f = lambda c, precision : exp(c).evalf(precision)\n",
    "data_points=np.array([[0,1],\n",
    "                      [1, f(1,precision)],\n",
    "                      [2, f(2,precision)],\n",
    "                      [3, f(3,precision)]]\n",
    "                    )\n",
    "N = len(data_points)\n",
    "a,b,c,d = natural_cubic_spline(N, data_points)\n",
    "# create the S(x) functions\n",
    "S = spline_functions_generator(data_points, a, b, c, d)\n",
    "print(\"a = \",a)\n",
    "print(\"b = \",b)\n",
    "print(\"c = \",c)\n",
    "print(\"d = \",d)\n",
    "print(\"S(x) : \")\n",
    "for i in range(len(S)):\n",
    "    print(S[i])\n",
    "print()\n",
    "x_val = 0.5\n",
    "print(\"Single point interpolation of x=\",x_val,\" :\")\n",
    "print(\"interpolation = \",interpolate_single_point(data_points, x_val, S),\n",
    "      \"\\nreal value from function = \",f(x_val,precision))\n",
    "# for plotting purpose\n",
    "step = 0.01\n",
    "#generate interpolated data points\n",
    "x_int, y_int = interpolated_data_generator(data_points, step, S)\n",
    "y_func = np.array([f(x_int[i], precision) for i in range(len(x_int))])"
   ]
  },
  {
   "cell_type": "code",
   "execution_count": 216,
   "metadata": {},
   "outputs": [
    {
     "data": {
      "image/png": "[encoded data removed]",
      "text/plain": [
       "<Figure size 432x288 with 1 Axes>"
      ]
     },
     "metadata": {},
     "output_type": "display_data"
    }
   ],
   "source": [
    "import matplotlib.pyplot as plt\n",
    "plt.plot(x_points, y_points, label=\"approximation\")\n",
    "plt.plot(x_points, y_func, label=\"true function\")\n",
    "plt.legend(loc=\"upper left\")\n",
    "plt.show()"
   ]
  },
  {
   "cell_type": "markdown",
   "metadata": {},
   "source": [
    "### Exercise 5d Page 161"
   ]
  },
  {
   "cell_type": "markdown",
   "metadata": {},
   "source": [
    "$$f(x) = x \\cos(x)-2x^2+3x-1\n",
    "$$"
   ]
  },
  {
   "cell_type": "code",
   "execution_count": 217,
   "metadata": {},
   "outputs": [
    {
     "name": "stdout",
     "output_type": "stream",
     "text": [
      "x =  0.25\n",
      "interpolated f(x) =  -0.131591160233762\n",
      "true f(x) =  -0.132771894572339\n",
      "error =  0.00118073433857688\n",
      "\n",
      "x =  0.25\n",
      "interpolated f'(x) =  2.90775896876347\n",
      "true f'(x) =  2.90706143189701\n",
      "error =  0.000697536866452797\n",
      "\n"
     ]
    }
   ],
   "source": [
    "# exercise 5d\n",
    "x = Symbol('x')\n",
    "f = lambda x: x*cos(x)-(2*x**2)+(3*x)-1\n",
    "f_dx = diff(f(x), x)\n",
    "\n",
    "# interpolation of f(x)\n",
    "data_points = np.array([[0.1, f(0.1)],\n",
    "                        [0.2, f(0.2)],\n",
    "                        [0.3, f(0.3)],\n",
    "                        [0.4, f(0.4)]]\n",
    "                      )\n",
    "N = len(data_points)\n",
    "a,b,c,d = natural_cubic_spline(N, data_points)\n",
    "S = spline_functions_generator(data_points, a, b, c, d)\n",
    "x_val = 0.25\n",
    "y = interpolate_single_point(data_points, x_val, S)\n",
    "err = abs(y-f(x_val))\n",
    "\n",
    "print(\"x = \",x_val)\n",
    "print(\"interpolated f(x) = \",y)\n",
    "print(\"true f(x) = \",f(x_val))\n",
    "print(\"error = \",err)\n",
    "print()\n",
    "\n",
    "\n",
    "# interpolation of f'(x)\n",
    "data_points = np.array([[0.1, f_dx.evalf(subs={x:0.1})],\n",
    "                        [0.2, f_dx.evalf(subs={x:0.2})],\n",
    "                        [0.3, f_dx.evalf(subs={x:0.3})],\n",
    "                        [0.4, f_dx.evalf(subs={x:0.4})]]\n",
    "                      )\n",
    "N = len(data_points)\n",
    "a,b,c,d = natural_cubic_spline(N, data_points)\n",
    "S = spline_functions_generator(data_points, a, b, c, d)\n",
    "x_val = 0.25\n",
    "y = interpolate_single_point(data_points, x_val, S)\n",
    "err = abs(y-f_dx.evalf(subs={x:x_val}))\n",
    "\n",
    "print(\"x = \",x_val)\n",
    "print(\"interpolated f'(x) = \",y)\n",
    "print(\"true f'(x) = \",f_dx.evalf(subs={x:x_val}))\n",
    "print(\"error = \",err)\n",
    "print()\n"
   ]
  },
  {
   "cell_type": "markdown",
   "metadata": {},
   "source": [
    "### Exercise 7d Page 161"
   ]
  },
  {
   "cell_type": "code",
   "execution_count": 218,
   "metadata": {},
   "outputs": [
    {
     "name": "stdout",
     "output_type": "stream",
     "text": [
      "x =  0.25\n",
      "interpolated f(x) =  -0.132772217685471\n",
      "true f(x) =  -0.132771894572339\n",
      "error =  3.23113132361108e-7\n",
      "\n",
      "a =  [-0.620499583472197 -0.283986684431752 0.00660094673768175\n",
      " 0.248424397601154]\n",
      "b =  [3.58502082 3.14032944 2.66667734 0.        ]\n",
      "c =  [-2.14984111 -2.29707277 -2.43944816 -2.5743887 ]\n",
      "d =  [-0.49077221 -0.47458461 -0.4498018   0.        ]\n",
      "S(x) : \n",
      "3.58502082361334*x - 0.490772207394706*(x - 0.1)**3 - 2.14984111134938*(x - 0.1)**2 - 0.979001665833532\n",
      "3.14032943512162*x - 0.474584607051173*(x - 0.2)**3 - 2.2970727735678*(x - 0.2)**2 - 0.912052571456077\n",
      "2.66667734219653*x - 0.449801799349201*(x - 0.3)**3 - 2.43944815568315*(x - 0.3)**2 - 0.793402255921277\n"
     ]
    }
   ],
   "source": [
    "# exercise 7d\n",
    "x = Symbol('x')\n",
    "f = lambda x: x*cos(x)-(2*x**2)+(3*x)-1\n",
    "f_dx = diff(f(x), x)\n",
    "\n",
    "data_points = np.array([[0.1, f(0.1)],\n",
    "                        [0.2, f(0.2)],\n",
    "                        [0.3, f(0.3)],\n",
    "                        [0.4, f(0.4)]]\n",
    "                      )\n",
    "N = len(data_points)\n",
    "FPO = f_dx.evalf(subs={x:0.1})\n",
    "FPN = f_dx.evalf(subs={x:0.4})\n",
    "a,b,c,d = clamped_cubic_spline(N, data_points, FPO, FPN)\n",
    "S = spline_functions_generator(data_points, a, b, c, d)\n",
    "x_val = 0.25\n",
    "y = interpolate_single_point(data_points, x_val, S)\n",
    "err = abs(y-f(x_val))\n",
    "print(\"x = \",x_val)\n",
    "print(\"interpolated f(x) = \",y)\n",
    "print(\"true f(x) = \",f(x_val))\n",
    "print(\"error = \",err)\n",
    "print()\n",
    "print(\"a = \",a)\n",
    "print(\"b = \",b)\n",
    "print(\"c = \",c)\n",
    "print(\"d = \",d)\n",
    "print(\"S(x) : \")\n",
    "for i in range(len(S)):\n",
    "    print(S[i])"
   ]
  },
  {
   "cell_type": "markdown",
   "metadata": {},
   "source": [
    "### Exercise 28 Page 163"
   ]
  },
  {
   "cell_type": "code",
   "execution_count": 222,
   "metadata": {},
   "outputs": [
    {
     "name": "stdout",
     "output_type": "stream",
     "text": [
      "a =  [151326 179323 203302 226542 249633 281422]\n",
      "b =  [2906.50239234 2586.09521531 2341.91674641 2211.93779904 2709.63205742\n",
      "    0.        ]\n",
      "c =  [  0.         -32.0407177    7.62287081 -20.62076555  70.39019139\n",
      "   0.        ]\n",
      "d =  [-1.06802392  1.32211962 -0.94145455  3.03369856 -2.34633971  0.        ]\n",
      "S(x) : \n",
      "2906.5023923445*x - 1.06802392344498*(x - 1950)**3 - 5516353.66507177\n",
      "2586.095215311*x + 1.32211961722488*(x - 1960)**3 - 32.0407177033493*(x - 1960)**2 - 4889423.62200957\n",
      "2341.91674641148*x - 0.941454545454546*(x - 1970)**3 + 7.62287081339714*(x - 1970)**2 - 4410273.99043062\n",
      "2211.93779904306*x + 3.0336985645933*(x - 1980)**3 - 20.6207655502392*(x - 1980)**2 - 4153094.84210526\n",
      "2709.63205741627*x - 2.34633971291866*(x - 1990)**3 + 70.3901913875598*(x - 1990)**2 - 5142534.79425837\n",
      "\n",
      "x\tinterpolated_f(x)\n",
      "1940\t123329.000000000\n",
      "1975\t215084.473684211\n",
      "2020\t330921.961722488\n"
     ]
    }
   ],
   "source": [
    "# exercise 28 pg 163\n",
    "x = Symbol('x')\n",
    "data_points = np.array([[1950, 151326],\n",
    "                        [1960, 179323],\n",
    "                        [1970, 203302],\n",
    "                        [1980, 226542],\n",
    "                        [1990, 249633],\n",
    "                        [2000, 281422]\n",
    "                       ]\n",
    "                      )\n",
    "N = len(data_points)\n",
    "a,b,c,d = natural_cubic_spline(N, data_points)\n",
    "S = spline_functions_generator(data_points, a, b, c, d)\n",
    "\n",
    "\n",
    "print(\"a = \",a)\n",
    "print(\"b = \",b)\n",
    "print(\"c = \",c)\n",
    "print(\"d = \",d)\n",
    "print(\"S(x) : \")\n",
    "for i in range(len(S)):\n",
    "    print(S[i])\n",
    "print()\n",
    "x_vals = [1940, 1975, 2020]\n",
    "ys = [interpolate_single_point(data_points, x_vals[i], S) for i in range(len(x_vals))]\n",
    "print(\"x\\tinterpolated_f(x)\")\n",
    "for i in range(len(x_vals)):\n",
    "    print(str(x_vals[i])+\"\\t\"+str(ys[i]))"
   ]
  },
  {
   "cell_type": "code",
   "execution_count": null,
   "metadata": {},
   "outputs": [],
   "source": []
  }
 ],
 "metadata": {
  "kernelspec": {
   "display_name": "Python 3",
   "language": "python",
   "name": "python3"
  }
 },
 "nbformat": 4,
 "nbformat_minor": 2
}
