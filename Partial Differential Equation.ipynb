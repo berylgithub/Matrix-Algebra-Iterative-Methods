{
 "cells": [
  {
   "cell_type": "code",
   "execution_count": 1,
   "metadata": {},
   "outputs": [],
   "source": [
    "from sympy import *\n",
    "import numpy as np"
   ]
  },
  {
   "cell_type": "code",
   "execution_count": 69,
   "metadata": {},
   "outputs": [
    {
     "data": {
      "text/plain": [
       "-0.e-101"
      ]
     },
     "execution_count": 69,
     "metadata": {},
     "output_type": "execute_result"
    }
   ],
   "source": [
    "u = lambda x, t : exp((-1*(pi)**2)*t)*sin(pi*x)\n",
    "x=Symbol('x')\n",
    "t=Symbol('t')\n",
    "u(x,t).evalf(subs={x:0.2,t:0.5})\n",
    "u(x,t).evalf(subs={x:1,t:0})"
   ]
  },
  {
   "cell_type": "code",
   "execution_count": 163,
   "metadata": {},
   "outputs": [],
   "source": [
    "def forward_diff(u, range_x, range_t, h, k, alpha, log=True):\n",
    "    \"\"\"\n",
    "    numerical solution using forward difference method for parabolic heat equation\n",
    "    \"\"\"\n",
    "\n",
    "    x=Symbol('x')\n",
    "    t=Symbol('t')\n",
    "    if log:\n",
    "        print(\"u(x,t) = \",u(x,t))\n",
    "        print(\"h=\",h, \";x=\",range_x[1])\n",
    "        print(\"k=\",k, \";t=\",range_t[1])\n",
    "        print(\"alpha=\",alpha)\n",
    "        \n",
    "    l = (alpha**2)*k/(h**2)\n",
    "    max_iter_i = int((range_x[1]-range_x[0])/h) + 1\n",
    "    max_iter_j = int((range_t[1]-range_t[0])/k) + 1\n",
    "    m = max_iter_i-1\n",
    "    #initiate tridiagonal matrix A \n",
    "    A = np.zeros((m-1, m-1))\n",
    "    for i in range(m-1):\n",
    "        for j in range(m-1):\n",
    "            if i==0:\n",
    "                A[i] = np.array( [1-(2*l), l]+([0]*(len(A)-2)) )\n",
    "            elif i==len(A)-1:\n",
    "                A[i] = np.array( ([0]*(len(A)-2))+[l, 1-(2*l)] )\n",
    "            else:\n",
    "                A[i][i-1] = l\n",
    "                A[i][i] = (1-(2*l))\n",
    "                A[i][i+1] = l\n",
    "    #insert zeros for u(0,t) and u(l,t)\n",
    "    #A=np.insert(A, 0, np.zeros(m-1), 0)\n",
    "    #A=np.insert(A, len(A), np.zeros(m-1), 0)\n",
    "    if log:\n",
    "        print(\"A = \")\n",
    "        print(A)\n",
    "\n",
    "    #initiate vector x input\n",
    "    xi=np.array([h*i for i in range(max_iter_i)])\n",
    "\n",
    "    #initiate w with size (m+1) * (m+1) (2 rows for u(0,t) and u(l,t))\n",
    "    #w = np.zeros((max_iter_i, max_iter_j))\n",
    "    w = np.zeros((m-1, max_iter_j))\n",
    "    \n",
    "    #initiate vector w at j=0, where 1<=i<=m-1, where w(i,0) = f(xi) \n",
    "    w10 = np.array([u(x,t).evalf(subs={x:xi[i], t:0}) for i in range(1, m)])\n",
    "    \n",
    "    #add zeros at both 0 and l\n",
    "    #w10=np.insert(w10, 0, 0, 0)\n",
    "    #w10=np.insert(w10, len(w10), 0, 0)\n",
    "    \n",
    "    #set it as w(1), but transpose w first, then insert w(1,0)\n",
    "    w = np.transpose(w)\n",
    "    w[0] = w10\n",
    "    #w = np.transpose(w)\n",
    "    #print(np.transpose(w))\n",
    "    \n",
    "    #calculate the w at j>0 until j*k = t\n",
    "    for j in range(1, len(w)):\n",
    "        w[j] = np.matmul(A, np.transpose(w[j-1]))\n",
    "    if log :\n",
    "        print(\"w(\",len(w)-1,\") = \")\n",
    "        print(w[-1])\n",
    "    return w[-1]"
   ]
  },
  {
   "cell_type": "code",
   "execution_count": 177,
   "metadata": {},
   "outputs": [
    {
     "name": "stdout",
     "output_type": "stream",
     "text": [
      "Example 1 page 727\n",
      "u(x,t) =  exp(-pi**2*t)*sin(pi*x)\n",
      "h= 0.1 ;x= 1\n",
      "k= 0.0005 ;t= 0.5\n",
      "alpha= 1\n",
      "A = \n",
      "[[0.9  0.05 0.   0.   0.   0.   0.   0.   0.  ]\n",
      " [0.05 0.9  0.05 0.   0.   0.   0.   0.   0.  ]\n",
      " [0.   0.05 0.9  0.05 0.   0.   0.   0.   0.  ]\n",
      " [0.   0.   0.05 0.9  0.05 0.   0.   0.   0.  ]\n",
      " [0.   0.   0.   0.05 0.9  0.05 0.   0.   0.  ]\n",
      " [0.   0.   0.   0.   0.05 0.9  0.05 0.   0.  ]\n",
      " [0.   0.   0.   0.   0.   0.05 0.9  0.05 0.  ]\n",
      " [0.   0.   0.   0.   0.   0.   0.05 0.9  0.05]\n",
      " [0.   0.   0.   0.   0.   0.   0.   0.05 0.9 ]]\n",
      "w( 1000 ) = \n",
      "[0.00228652 0.00434922 0.00598619 0.00703719 0.00739934 0.00703719\n",
      " 0.00598619 0.00434922 0.00228652]\n",
      "\n",
      "Result :\n",
      "u(x,0.5)\tw(i,1000)\terror\n",
      "0.00222241417851267 \t 0.0022865207865784528 \t 6.41066080657787e-5\n",
      "0.00422728297276244 \t 0.004349220987439515 \t 0.000121938014677076\n",
      "0.00581835585642586 \t 0.005986189135245531 \t 0.000167833278819674\n",
      "0.00683988752999332 \t 0.007037187382261514 \t 0.000197299852268192\n",
      "0.00719188335582637 \t 0.007399336697334161 \t 0.000207453341507796\n",
      "0.00683988752999332 \t 0.007037187382261516 \t 0.000197299852268195\n",
      "0.00581835585642586 \t 0.005986189135245533 \t 0.000167833278819677\n",
      "0.00422728297276244 \t 0.004349220987439515 \t 0.000121938014677077\n",
      "0.00222241417851267 \t 0.0022865207865784528 \t 6.41066080657791e-5\n"
     ]
    }
   ],
   "source": [
    "#Example 1 page 727\n",
    "print(\"Example 1 page 727\")\n",
    "u = lambda x, t : exp((-1*(pi)**2)*t)*sin(pi*x)\n",
    "\n",
    "#variables initialization\n",
    "alpha = 1\n",
    "k = 0.0005\n",
    "h = 0.1\n",
    "rn_x = [0,1]\n",
    "rn_t = [0,0.5]\n",
    "x_iter = int((rn_x[1]-rn_x[0])/h)\n",
    "xi = np.array([h*i for i in range(1, x_iter)])\n",
    "\n",
    "#exact calculation of u(x,t)\n",
    "u_exact = np.array([u(x,t).evalf(subs={x:xi[i], t:rn_t[1]}) for i in range(len(xi))])\n",
    "\n",
    "#approximation of u(x,t)\n",
    "w_last = forward_diff(u, rn_x, rn_t, h, k, alpha)\n",
    "\n",
    "print(\"\\nResult :\")\n",
    "print(\"u(x,0.5)\\tw(i,1000)\\terror\")\n",
    "for i in range(len(w_last)):\n",
    "    err = abs(u_exact[i] - w_last[i])\n",
    "    print(u_exact[i],\"\\t\",w_last[i],\"\\t\",err)"
   ]
  },
  {
   "cell_type": "code",
   "execution_count": null,
   "metadata": {},
   "outputs": [],
   "source": []
  }
 ],
 "metadata": {
  "kernelspec": {
   "display_name": "Python 3",
   "language": "python",
   "name": "python3"
  },
  "language_info": {
   "codemirror_mode": {
    "name": "ipython",
    "version": 3
   },
   "file_extension": ".py",
   "mimetype": "text/x-python",
   "name": "python",
   "nbconvert_exporter": "python",
   "pygments_lexer": "ipython3",
   "version": "3.6.6"
  }
 },
 "nbformat": 4,
 "nbformat_minor": 2
}
